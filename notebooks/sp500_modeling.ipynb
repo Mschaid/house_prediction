{
 "cells": [
  {
   "cell_type": "code",
   "execution_count": 78,
   "metadata": {},
   "outputs": [],
   "source": [
    "import datetime\n",
    "import matplotlib.pyplot as plt\n",
    "import numpy as np\n",
    "import pandas as pd\n",
    "import seaborn as sns\n",
    "from sklearn.linear_model import LinearRegression \n",
    "from sklearn.metrics import mean_squared_error, mean_absolute_error\n",
    "from sklearn.model_selection import train_test_split, KFold"
   ]
  },
  {
   "cell_type": "code",
   "execution_count": 69,
   "metadata": {},
   "outputs": [],
   "source": [
    "df=pd.read_csv(r\"/Users/michaelschaid/GitHub/stock_market_prediction/sphist.csv\")\n",
    "\n",
    "def tweak_data(df):\n",
    "    return (df\n",
    "            .rename(lambda col: col.lower(),axis=1)\n",
    "            .sort_values(by='date')  \n",
    "            .assign(date = lambda df_: df_.date.astype('datetime64'),\n",
    "                    avg_5_open= lambda df_: df_.open.shift(1).rolling(window=5).sum(),\n",
    "                    avg_365_open= lambda df_: df_.open.shift(1).rolling(window=365).sum(),\n",
    "                    std_5 = lambda df_: df_.open.shift(1).rolling(window=5).std(),\n",
    "                    std_365 = lambda df_: df_.open.shift(1).rolling(window=365).std(),\n",
    "                    day_year_open_ratio = lambda df_: df_.avg_5_open/df_.avg_365_open,\n",
    "                    day_year_std_ratio = lambda df_: df_.std_5/df_.std_365\n",
    "                    )\n",
    "            .dropna(axis=0)\n",
    "            \n",
    "            )\n",
    "    \n",
    "stocks =tweak_data(df)       \n",
    "\n",
    "stocks\n"
   ]
  },
  {
   "cell_type": "code",
   "execution_count": 80,
   "metadata": {},
   "outputs": [
    {
     "data": {
      "text/plain": [
       "(26.18373476706312, 19.165580108739576)"
      ]
     },
     "execution_count": 80,
     "metadata": {},
     "output_type": "execute_result"
    }
   ],
   "source": [
    "def split_data_by_date(data,date):\n",
    "    train = data.query(\"date < @date\")\n",
    "    test = data.query(\"date > @date\")\n",
    "    return train, test\n",
    "\n",
    "def train_regr(data):\n",
    "    train, test = split_data(data)\n",
    "    \n",
    "    features = ['avg_5_open', 'avg_365_open', 'std_5',\n",
    "                'std_365', 'day_year_open_ratio', 'day_year_std_ratio']\n",
    "    \n",
    "    target = 'close'\n",
    "    \n",
    "    model = LinearRegression().fit(train[features], train[target]) \n",
    "    predict_close = model.predict(test[features])\n",
    "    rmse = np.sqrt(mean_squared_error(test[target], predict_close))\n",
    "    mae = mean_absolute_error(test[target], predict_close)\n",
    "    return rmse,mae \n",
    "\n",
    "train_regr(stocks)\n",
    "    "
   ]
  },
  {
   "cell_type": "code",
   "execution_count": 77,
   "metadata": {},
   "outputs": [
    {
     "data": {
      "text/plain": [
       "Index(['date', 'open', 'high', 'low', 'close', 'volume', 'adj close',\n",
       "       'avg_5_open', 'avg_365_open', 'std_5', 'std_365', 'day_year_open_ratio',\n",
       "       'day_year_std_ratio'],\n",
       "      dtype='object')"
      ]
     },
     "execution_count": 77,
     "metadata": {},
     "output_type": "execute_result"
    }
   ],
   "source": [
    "stocks.columns"
   ]
  },
  {
   "cell_type": "code",
   "execution_count": null,
   "metadata": {},
   "outputs": [],
   "source": []
  }
 ],
 "metadata": {
  "kernelspec": {
   "display_name": "Python 3.10.6 ('homes')",
   "language": "python",
   "name": "python3"
  },
  "language_info": {
   "codemirror_mode": {
    "name": "ipython",
    "version": 3
   },
   "file_extension": ".py",
   "mimetype": "text/x-python",
   "name": "python",
   "nbconvert_exporter": "python",
   "pygments_lexer": "ipython3",
   "version": "3.10.6"
  },
  "orig_nbformat": 4,
  "vscode": {
   "interpreter": {
    "hash": "c109cc2312acbd3763e73d84d73cc015cbd21795785256c8cd99a3977f3a2968"
   }
  }
 },
 "nbformat": 4,
 "nbformat_minor": 2
}
