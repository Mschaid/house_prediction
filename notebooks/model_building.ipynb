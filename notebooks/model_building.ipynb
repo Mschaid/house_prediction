{
 "cells": [
  {
   "cell_type": "code",
   "execution_count": 65,
   "metadata": {},
   "outputs": [],
   "source": [
    "import numpy as np \n",
    "import pandas as pd\n",
    "import re\n",
    "\n",
    "from sklearn.linear_model import LinearRegression \n",
    "from sklearn.metrics import mean_squared_error, accuracy_score\n",
    "from sklearn.model_selection import train_test_split, KFold\n",
    "\n",
    "from src.utils.DataProcessing import DataProcessing "
   ]
  },
  {
   "cell_type": "code",
   "execution_count": 77,
   "metadata": {},
   "outputs": [
    {
     "data": {
      "text/plain": [
       "35239.15041284548"
      ]
     },
     "execution_count": 77,
     "metadata": {},
     "output_type": "execute_result"
    }
   ],
   "source": [
    "\n",
    "PATH= r\"/Users/michaelschaid/GitHub/house_prediction/data/AmesHousing.tsv\"\n",
    "\n",
    "\n",
    "    \n",
    "\n",
    "DATA = (DataProcessing(data_path=PATH, target='saleprice')\n",
    "        .load_data()\n",
    "        .clean_data()\n",
    "        .get_dummies(cols='neighborhood')\n",
    "        .filter_features(upper_threshold=0.3, lower_threshold=-0.2)\n",
    "        )\n",
    "\n",
    "def train_regr(data, features, target):\n",
    "    #split data into training and testing sets\n",
    "    data_train, data_test = train_test_split(data, test_size=0.1)\n",
    "    \n",
    "    #train model\n",
    "    regr = LinearRegression().fit(data_train[features], data_train[target] )\n",
    "    \n",
    "    #prediction\n",
    "    regr_predict = regr.predict(data_test[features])\n",
    "    \n",
    "    mse = mean_squared_error(data_test[target], regr_predict)\n",
    "    rmse = np.sqrt(mse)\n",
    "\n",
    "    return rmse\n",
    "\n",
    "train_regr(data = DATA.processed_dummies, features =  DATA.features, target = DATA.target)\n"
   ]
  },
  {
   "cell_type": "markdown",
   "metadata": {},
   "source": [
    "### Cross-validation"
   ]
  },
  {
   "cell_type": "code",
   "execution_count": 76,
   "metadata": {},
   "outputs": [],
   "source": [
    "def cross_validation(data, features, target, k_folds=5):\n",
    "    \n",
    "    \n",
    "    kf = KFold(n_splits = k_folds, shuffle =True)\n",
    "    all_rmse = []\n",
    "    for train_index, test_index in kf.split(data):\n",
    "        train = data.iloc[train_index]\n",
    "        test = data.iloc[test_index]\n",
    "        regr= LinearRegression().fit(train[features],train[target])\n",
    "        prediction = regr.predict(test[features])\n",
    "        rmse = np.sqrt(mean_squared_error(test[target], prediction))\n",
    "        all_rmse.append(rmse)\n",
    "    return all_rmse\n",
    "\n",
    "rmse_5K = cross_validation(data = DATA.processed_dummies, features = DATA.features, target = DATA.target)\n"
   ]
  },
  {
   "cell_type": "markdown",
   "metadata": {},
   "source": [
    "# Results\n",
    "\n",
    "### Average RMSE for linear model with correlation values set upper_threshold=0.3, lower_threshold=-0.2 across 5 K-Fold is"
   ]
  },
  {
   "cell_type": "code",
   "execution_count": 75,
   "metadata": {},
   "outputs": [
    {
     "data": {
      "text/plain": [
       "33762.06674701705"
      ]
     },
     "execution_count": 75,
     "metadata": {},
     "output_type": "execute_result"
    }
   ],
   "source": [
    "np.mean(rmse_5K)"
   ]
  },
  {
   "cell_type": "code",
   "execution_count": null,
   "metadata": {},
   "outputs": [],
   "source": [
    "\n",
    "\n",
    "\n"
   ]
  },
  {
   "cell_type": "code",
   "execution_count": null,
   "metadata": {},
   "outputs": [],
   "source": []
  }
 ],
 "metadata": {
  "kernelspec": {
   "display_name": "Python 3.10.6 ('homes')",
   "language": "python",
   "name": "python3"
  },
  "language_info": {
   "codemirror_mode": {
    "name": "ipython",
    "version": 3
   },
   "file_extension": ".py",
   "mimetype": "text/x-python",
   "name": "python",
   "nbconvert_exporter": "python",
   "pygments_lexer": "ipython3",
   "version": "3.10.6"
  },
  "orig_nbformat": 4,
  "vscode": {
   "interpreter": {
    "hash": "c109cc2312acbd3763e73d84d73cc015cbd21795785256c8cd99a3977f3a2968"
   }
  }
 },
 "nbformat": 4,
 "nbformat_minor": 2
}
